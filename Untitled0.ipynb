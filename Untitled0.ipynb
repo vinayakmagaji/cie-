{
  "nbformat": 4,
  "nbformat_minor": 0,
  "metadata": {
    "colab": {
      "provenance": [],
      "authorship_tag": "ABX9TyP5hfDm+RQinaIoTHA288lp",
      "include_colab_link": true
    },
    "kernelspec": {
      "name": "python3",
      "display_name": "Python 3"
    },
    "language_info": {
      "name": "python"
    }
  },
  "cells": [
    {
      "cell_type": "markdown",
      "metadata": {
        "id": "view-in-github",
        "colab_type": "text"
      },
      "source": [
        "<a href=\"https://colab.research.google.com/github/vinayakmagaji/cie-/blob/main/Untitled0.ipynb\" target=\"_parent\"><img src=\"https://colab.research.google.com/assets/colab-badge.svg\" alt=\"Open In Colab\"/></a>"
      ]
    },
    {
      "cell_type": "code",
      "execution_count": 5,
      "metadata": {
        "colab": {
          "base_uri": "https://localhost:8080/"
        },
        "id": "c2cHkDRpXfbW",
        "outputId": "96ed1b4a-3fc4-4e26-f3e9-2ed8d1c101fd"
      },
      "outputs": [
        {
          "output_type": "stream",
          "name": "stdout",
          "text": [
            "   0.00632  18.00  2.310  0  0.5380  6.5750  65.20  4.0900  1  296.0  15.30  \\\n",
            "0  0.02731    0.0   7.07  0   0.469   6.421   78.9  4.9671  2  242.0   17.8   \n",
            "1  0.02729    0.0   7.07  0   0.469   7.185   61.1  4.9671  2  242.0   17.8   \n",
            "2  0.03237    0.0   2.18  0   0.458   6.998   45.8  6.0622  3  222.0   18.7   \n",
            "3  0.06905    0.0   2.18  0   0.458   7.147   54.2  6.0622  3  222.0   18.7   \n",
            "4  0.02985    0.0   2.18  0   0.458   6.430   58.7  6.0622  3  222.0   18.7   \n",
            "\n",
            "   396.90  4.98  24.00  \n",
            "0  396.90  9.14   21.6  \n",
            "1  392.83  4.03   34.7  \n",
            "2  394.63  2.94   33.4  \n",
            "3  396.90  5.33   36.2  \n",
            "4  394.12  5.21   28.7  \n",
            "<class 'pandas.core.frame.DataFrame'>\n",
            "RangeIndex: 505 entries, 0 to 504\n",
            "Data columns (total 14 columns):\n",
            " #   Column   Non-Null Count  Dtype  \n",
            "---  ------   --------------  -----  \n",
            " 0   0.00632  505 non-null    float64\n",
            " 1   18.00    505 non-null    float64\n",
            " 2   2.310    505 non-null    float64\n",
            " 3   0        505 non-null    int64  \n",
            " 4   0.5380   505 non-null    float64\n",
            " 5   6.5750   505 non-null    float64\n",
            " 6   65.20    505 non-null    float64\n",
            " 7   4.0900   505 non-null    float64\n",
            " 8   1        505 non-null    int64  \n",
            " 9   296.0    505 non-null    float64\n",
            " 10  15.30    505 non-null    float64\n",
            " 11  396.90   505 non-null    float64\n",
            " 12  4.98     505 non-null    float64\n",
            " 13  24.00    505 non-null    float64\n",
            "dtypes: float64(12), int64(2)\n",
            "memory usage: 55.4 KB\n",
            "None\n",
            "          0.00632       18.00       2.310           0      0.5380      6.5750  \\\n",
            "count  505.000000  505.000000  505.000000  505.000000  505.000000  505.000000   \n",
            "mean     3.620667   11.350495   11.154257    0.069307    0.554728    6.284059   \n",
            "std      8.608572   23.343704    6.855868    0.254227    0.115990    0.703195   \n",
            "min      0.009060    0.000000    0.460000    0.000000    0.385000    3.561000   \n",
            "25%      0.082210    0.000000    5.190000    0.000000    0.449000    5.885000   \n",
            "50%      0.259150    0.000000    9.690000    0.000000    0.538000    6.208000   \n",
            "75%      3.678220   12.500000   18.100000    0.000000    0.624000    6.625000   \n",
            "max     88.976200  100.000000   27.740000    1.000000    0.871000    8.780000   \n",
            "\n",
            "            65.20      4.0900           1       296.0       15.30      396.90  \\\n",
            "count  505.000000  505.000000  505.000000  505.000000  505.000000  505.000000   \n",
            "mean    68.581584    3.794459    9.566337  408.459406   18.461782  356.594376   \n",
            "std     28.176371    2.107757    8.707553  168.629992    2.162520   91.367787   \n",
            "min      2.900000    1.129600    1.000000  187.000000   12.600000    0.320000   \n",
            "25%     45.000000    2.100000    4.000000  279.000000   17.400000  375.330000   \n",
            "50%     77.700000    3.199200    5.000000  330.000000   19.100000  391.430000   \n",
            "75%     94.100000    5.211900   24.000000  666.000000   20.200000  396.210000   \n",
            "max    100.000000   12.126500   24.000000  711.000000   22.000000  396.900000   \n",
            "\n",
            "             4.98       24.00  \n",
            "count  505.000000  505.000000  \n",
            "mean    12.668257   22.529901  \n",
            "std      7.139950    9.205991  \n",
            "min      1.730000    5.000000  \n",
            "25%      7.010000   17.000000  \n",
            "50%     11.380000   21.200000  \n",
            "75%     16.960000   25.000000  \n",
            "max     37.970000   50.000000  \n",
            "0.00632    0\n",
            "18.00      0\n",
            "2.310      0\n",
            "0          0\n",
            "0.5380     0\n",
            "6.5750     0\n",
            "65.20      0\n",
            "4.0900     0\n",
            "1          0\n",
            "296.0      0\n",
            "15.30      0\n",
            "396.90     0\n",
            "4.98       0\n",
            "24.00      0\n",
            "dtype: int64\n"
          ]
        }
      ],
      "source": [
        "import pandas as pd\n",
        "import matplotlib.pyplot as plt\n",
        "import numpy as np\n",
        "import seaborn as sns\n",
        "data=pd.read_csv(\"/content/housing.csv\")\n",
        "print(data.head())\n",
        "print(data.info())\n",
        "print(data.describe())\n",
        "print(data.isnull().sum())\n",
        "\n",
        "\n"
      ]
    },
    {
      "cell_type": "markdown",
      "source": [],
      "metadata": {
        "id": "wjNifePZgZl9"
      }
    }
  ]
}